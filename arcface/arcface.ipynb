{
 "cells": [
  {
   "cell_type": "markdown",
   "metadata": {},
   "source": [
    "# ArcFace Toy Example #\n",
    "---\n",
    "- This is a toy example of [ArcFace: Additive Angular Margin Loss for Deep Face Recognition](https://arxiv.org/abs/1801.07698)\n",
    "- You can use Trainer class here : [PinkBlack](https://github.com/sweetcocoa/PinkBlack)\n",
    "  - Still You can train without a trainer if you use the structure of network only.\n",
    "\n",
    "## Description ##\n",
    "---\n",
    "- Dataset : MNIST\n",
    "- Network : \n",
    "  - Feature extractor :: Custom 3-layered Conv (No Residual Connection)\n",
    "  - Classifier :: 1 Linear Layer (No Bias)\n",
    "- Loss :\n",
    "  - Softmax\n",
    "  - ArcLoss\n",
    "- Task :\n",
    "  - Multi-Class Classification"
   ]
  },
  {
   "cell_type": "code",
   "execution_count": 1,
   "metadata": {},
   "outputs": [],
   "source": [
    "import torch\n",
    "import torch.nn as nn\n",
    "import numpy as np\n",
    "from torch.utils.data import DataLoader\n",
    "from torchvision import datasets, transforms\n",
    "import torch.nn.functional as F\n",
    "import math\n",
    "import PinkBlack.trainer\n",
    "import matplotlib.pyplot as plt\n",
    "import os"
   ]
  },
  {
   "cell_type": "code",
   "execution_count": 2,
   "metadata": {},
   "outputs": [],
   "source": [
    "os.environ['CUDA_VISIBLE_DEVICES'] = \"2\""
   ]
  },
  {
   "cell_type": "code",
   "execution_count": 3,
   "metadata": {},
   "outputs": [],
   "source": [
    "transform = transforms.Compose([\n",
    "transforms.Resize((28, 28)),\n",
    "transforms.ToTensor(),\n",
    "])\n",
    "\n",
    "train_dataset = datasets.MNIST('mnist', train=True, download=True, transform=transform)\n",
    "test_dataset = datasets.MNIST('mnist', train=False, transform=transform)\n",
    "train_dataloader = DataLoader(train_dataset, pin_memory=True, num_workers=8, shuffle=True, batch_size=32)\n",
    "test_dataloader = DataLoader(test_dataset, pin_memory=True, num_workers=8, batch_size=32, shuffle=False)"
   ]
  },
  {
   "cell_type": "code",
   "execution_count": 4,
   "metadata": {},
   "outputs": [],
   "source": [
    "# softmax 사용 일반 네트워크\n",
    "# visualize를 위해 feature dimension 은 2\n",
    "class SoftMaxNet(nn.Module):\n",
    "    def __init__(self):\n",
    "        super(self.__class__, self).__init__()\n",
    "        self.ext = nn.Sequential(\n",
    "            nn.Conv2d(1, 256, 5),\n",
    "            nn.ReLU(inplace=True),\n",
    "            nn.MaxPool2d(2),\n",
    "            nn.Conv2d(256, 256, 3),\n",
    "            nn.ReLU(inplace=True),\n",
    "            nn.MaxPool2d(2),\n",
    "            nn.Conv2d(256, 2, 5),\n",
    "            nn.AdaptiveAvgPool2d(1),\n",
    "        )\n",
    "        self.classifier = nn.Linear(2, 10)\n",
    "        \n",
    "    def forward(self, x):\n",
    "        x = self.ext(x)\n",
    "        x = x.view(x.shape[0], 2)\n",
    "#         x = F.normalize(x)\n",
    "        x = self.classifier(x)\n",
    "        return x\n",
    "    \n",
    "    def get_feature(self, x):\n",
    "        with torch.no_grad():\n",
    "            x = self.ext(x)\n",
    "            x = x.view(x.shape[0], 2)\n",
    "            x = F.normalize(x)\n",
    "            return x\n",
    "        "
   ]
  },
  {
   "cell_type": "code",
   "execution_count": 5,
   "metadata": {},
   "outputs": [],
   "source": [
    "# ArcFace의 Feature extractor 부분\n",
    "# Classifier 를 여기 선언한 이유는 코딩의 용이성을 위해\n",
    "class ArcLossFeatureExtractor(nn.Module):\n",
    "    def __init__(self):\n",
    "        super(self.__class__, self).__init__()\n",
    "        self.ext = nn.Sequential(\n",
    "            nn.Conv2d(1, 256, 5),\n",
    "            nn.ReLU(inplace=True),\n",
    "            nn.MaxPool2d(2),\n",
    "            nn.Conv2d(256, 256, 3),\n",
    "            nn.ReLU(inplace=True),\n",
    "            nn.MaxPool2d(2),\n",
    "            nn.Conv2d(256, 2, 5),\n",
    "            nn.AdaptiveAvgPool2d(1),\n",
    "        )\n",
    "        self.classifier = nn.Parameter(torch.FloatTensor(10, 2))\n",
    "        nn.init.xavier_normal_(self.classifier)\n",
    "\n",
    "    def forward(self, x):\n",
    "        x = self.ext(x)\n",
    "        x = x.view(x.shape[0], 2)\n",
    "        x = F.normalize(x) # B x 2\n",
    "#         denom = torch.norm(x, dim=1, keepdim=True).clamp(min=1e-12)\n",
    "#         x = x / denom\n",
    "        return x\n",
    "    \n",
    "    def get_feature(self, x):\n",
    "        with torch.no_grad():\n",
    "            x = self.ext(x)\n",
    "            x = x.view(x.shape[0], 2)\n",
    "            x = F.normalize(x)\n",
    "            return x"
   ]
  },
  {
   "cell_type": "code",
   "execution_count": 6,
   "metadata": {},
   "outputs": [],
   "source": [
    "# loss layer\n",
    "# ArcLoss(feature extract layer)\n",
    "# input : batch_size x 2 (feature vector), batch_size(long, label)\n",
    "# 주의 : arc-cosine 함수는 x=-1, 1에서 미분값이 nan이므로, clamp할 때 주의해야함. (어디서 nan 뜨는지 몰라서 고생하였음)\n",
    "class ArcLoss(nn.Module):\n",
    "    def __init__(self, feat):\n",
    "        super(self.__class__, self).__init__()\n",
    "\n",
    "        self.classifier = feat.classifier\n",
    "    \n",
    "        self.margin = 0.2\n",
    "        self.scale = 30.0\n",
    "        \n",
    "        self.cos_m = math.cos(self.margin)\n",
    "        self.sin_m = math.sin(self.margin)\n",
    "        self.eps = 0.0001\n",
    "        self.th = math.cos(math.pi - self.margin)\n",
    "        self.mm = math.sin(math.pi - self.margin) * self.margin\n",
    "    \n",
    "    def forward(self, x, y):        \n",
    "        outputs = self.logit(x, y)\n",
    "        loss = F.cross_entropy(outputs, y)\n",
    "        return loss\n",
    "\n",
    "    def logit(self, x, y):\n",
    "        cosine = F.linear(x, F.normalize(self.classifier)) # weight shape 2 x 10 without bias\n",
    "        cosine = cosine.clamp(-1. + self.eps, 1. - self.eps) \n",
    "        theta = torch.acos(cosine) # clamp에서 eps를 뺀 이유 : grad nan을 막기 위해 (d(arccos)/dx == nan at x = -1, 1) \n",
    "        cosine_m = torch.where(theta < (math.pi - self.margin), torch.cos(theta + self.margin), torch.cos(theta) - self.mm)\n",
    "        \n",
    "        ## acos 안 쓰고 cosine domain에서 계산 -> 못미더워서 그냥 acos으로 바꿈 \n",
    "        #sine = torch.sqrt(1. - torch.pow(cosine, 2))        \n",
    "        #cosine_m = cosine * self.cos_m - sine * self.sin_m  # cos(theta + m) = cos(theta)cos(m) - sin(the2ta)sin(m)\n",
    "        #cosine_m = torch.where(cosine > self.th, cosine_m, cosine - self.mm)\n",
    "\n",
    "        if y.dim() == 1:\n",
    "            y = y.unsqueeze(-1)\n",
    "\n",
    "        onehot = torch.zeros(cosine.size()).cuda()\n",
    "        onehot.scatter_(1, y, 1)\n",
    "        outputs = onehot * cosine_m + (1.0 - onehot) * cosine\n",
    "        outputs = outputs * self.scale\n",
    "        \n",
    "        if y.dim() == 2:\n",
    "            y = y.squeeze()\n",
    "\n",
    "        return outputs\n",
    "    \n",
    "class Metric:\n",
    "    def __init__(self, loss):\n",
    "        self.loss = loss\n",
    "    \n",
    "    def __call__(self, x, y):\n",
    "        with torch.no_grad():\n",
    "            logit = self.loss.logit(x, y)\n",
    "            return PinkBlack.trainer.cal_accuracy(logit, y)\n",
    "\n",
    "    "
   ]
  },
  {
   "cell_type": "code",
   "execution_count": 7,
   "metadata": {},
   "outputs": [
    {
     "data": {
      "image/png": "[encoded data removed]",
      "text/plain": [
       "<Figure size 432x288 with 1 Axes>"
      ]
     },
     "metadata": {
      "needs_background": "light"
     },
     "output_type": "display_data"
    }
   ],
   "source": [
    "# theta에 따른 cosine(theta + m) 곡선 그려보기\n",
    "margin = 0.5\n",
    "cos_m = math.cos(margin)\n",
    "sin_m = math.sin(margin)\n",
    "th = math.cos(math.pi - margin)\n",
    "mm = math.sin(math.pi - margin) * margin\n",
    "x = np.linspace(0, np.pi, 100)\n",
    "cos = np.cos(x + margin)\n",
    "y = np.where(np.cos(x) > th, cos, np.cos(x) - mm)\n",
    "plt.plot(x, y)\n",
    "plt.show()"
   ]
  },
  {
   "cell_type": "code",
   "execution_count": 8,
   "metadata": {},
   "outputs": [],
   "source": [
    "arcfeat = ArcLossFeatureExtractor().cuda()\n",
    "arcloss = ArcLoss(arcfeat).cuda()\n",
    "metric = Metric(loss=arcloss)\n",
    "# arcloss.register_backward_hook(lambda *pargs: print(\"after\", arcloss.classifier) if arcloss.printcount < 10 else None)\n",
    "arc_trainer = PinkBlack.trainer.Trainer(net=arcfeat, train_dataloader=train_dataloader, val_dataloader=test_dataloader, criterion=arcloss, metric=metric)"
   ]
  },
  {
   "cell_type": "code",
   "execution_count": 9,
   "metadata": {},
   "outputs": [
    {
     "name": "stdout",
     "output_type": "stream",
     "text": [
      "|-------------------------|-------------------------|-------------------------|-------------------------|-------------------------|-------------------------|\n",
      "|          epoch          |        train_loss       |       train_metric      |         val loss        |        val metric       |           time          |\n",
      "|-------------------------|-------------------------|-------------------------|-------------------------|-------------------------|-------------------------|\n"
     ]
    },
    {
     "name": "stderr",
     "output_type": "stream",
     "text": [
      "                                                                                                                                                                                                                                                                      "
     ]
    },
    {
     "name": "stdout",
     "output_type": "stream",
     "text": [
      "|          1-best         |         5.466885        |         0.364917        |         1.930780        |         0.635583        |        18.775852        |\n",
      "|-------------------------|-------------------------|-------------------------|-------------------------|-------------------------|-------------------------|\n"
     ]
    },
    {
     "name": "stderr",
     "output_type": "stream",
     "text": []
    },
    {
     "name": "stderr",
     "output_type": "stream",
     "text": [
      "                                                                                                                                                                                                                                                                      "
     ]
    },
    {
     "name": "stdout",
     "output_type": "stream",
     "text": [
      "|          2-best         |         1.694550        |         0.671950        |         1.300213        |         0.724840        |        16.884414        |\n",
      "|-------------------------|-------------------------|-------------------------|-------------------------|-------------------------|-------------------------|\n"
     ]
    },
    {
     "name": "stderr",
     "output_type": "stream",
     "text": []
    },
    {
     "name": "stderr",
     "output_type": "stream",
     "text": [
      "                                                                                                                                                                                                                                                                      "
     ]
    },
    {
     "name": "stdout",
     "output_type": "stream",
     "text": [
      "|          3-best         |         1.261878        |         0.751883        |         1.246870        |         0.785443        |        19.086946        |\n",
      "|-------------------------|-------------------------|-------------------------|-------------------------|-------------------------|-------------------------|\n"
     ]
    },
    {
     "name": "stderr",
     "output_type": "stream",
     "text": []
    },
    {
     "name": "stderr",
     "output_type": "stream",
     "text": [
      "                                                                                                                                                                                                                                                                      "
     ]
    },
    {
     "name": "stdout",
     "output_type": "stream",
     "text": [
      "|          4-best         |         1.137857        |         0.790700        |         1.153693        |         0.791633        |        19.507907        |\n",
      "|-------------------------|-------------------------|-------------------------|-------------------------|-------------------------|-------------------------|\n"
     ]
    },
    {
     "name": "stderr",
     "output_type": "stream",
     "text": []
    },
    {
     "name": "stderr",
     "output_type": "stream",
     "text": [
      "                                                                                                                                                                                                                                                                      "
     ]
    },
    {
     "name": "stdout",
     "output_type": "stream",
     "text": [
      "|          5-best         |         0.922772        |         0.844667        |         1.081306        |         0.859125        |        19.782413        |\n",
      "|-------------------------|-------------------------|-------------------------|-------------------------|-------------------------|-------------------------|\n"
     ]
    },
    {
     "name": "stderr",
     "output_type": "stream",
     "text": []
    },
    {
     "name": "stderr",
     "output_type": "stream",
     "text": [
      "                                                                                                                                                                                                                                                                      "
     ]
    },
    {
     "name": "stdout",
     "output_type": "stream",
     "text": [
      "|          6-best         |         0.860365        |         0.864233        |         0.916256        |         0.876997        |        15.602484        |\n",
      "|-------------------------|-------------------------|-------------------------|-------------------------|-------------------------|-------------------------|\n"
     ]
    },
    {
     "name": "stderr",
     "output_type": "stream",
     "text": []
    },
    {
     "name": "stderr",
     "output_type": "stream",
     "text": [
      "                                                                                                                                                                                                                                                                      "
     ]
    },
    {
     "name": "stdout",
     "output_type": "stream",
     "text": [
      "|           7.0           |         0.683322        |         0.894200        |         0.966108        |         0.871705        |        19.321811        |\n",
      "|-------------------------|-------------------------|-------------------------|-------------------------|-------------------------|-------------------------|\n"
     ]
    },
    {
     "name": "stderr",
     "output_type": "stream",
     "text": []
    },
    {
     "name": "stderr",
     "output_type": "stream",
     "text": [
      "                                                                                                                                                                                                                                                                      "
     ]
    },
    {
     "name": "stdout",
     "output_type": "stream",
     "text": [
      "|          8-best         |         0.576981        |         0.908200        |         0.778933        |         0.902955        |        20.583449        |\n",
      "|-------------------------|-------------------------|-------------------------|-------------------------|-------------------------|-------------------------|\n"
     ]
    },
    {
     "name": "stderr",
     "output_type": "stream",
     "text": []
    },
    {
     "name": "stderr",
     "output_type": "stream",
     "text": [
      "                                                                                                                                                                                                                                                                      "
     ]
    },
    {
     "name": "stdout",
     "output_type": "stream",
     "text": [
      "|           9.0           |         0.547929        |         0.911133        |         0.850293        |         0.900060        |        20.351774        |\n",
      "|-------------------------|-------------------------|-------------------------|-------------------------|-------------------------|-------------------------|\n"
     ]
    },
    {
     "name": "stderr",
     "output_type": "stream",
     "text": []
    },
    {
     "name": "stderr",
     "output_type": "stream",
     "text": [
      "                                                                                                                                                                                                                                                                      "
     ]
    },
    {
     "name": "stdout",
     "output_type": "stream",
     "text": [
      "|           10.0          |         0.500643        |         0.918517        |         0.916285        |         0.887979        |        20.404016        |\n",
      "|-------------------------|-------------------------|-------------------------|-------------------------|-------------------------|-------------------------|\n"
     ]
    },
    {
     "name": "stderr",
     "output_type": "stream",
     "text": []
    },
    {
     "name": "stderr",
     "output_type": "stream",
     "text": [
      "                                                                                                                                                                                                                                                                      "
     ]
    },
    {
     "name": "stdout",
     "output_type": "stream",
     "text": [
      "|         11-best         |         0.439175        |         0.926600        |         0.731541        |         0.919629        |        20.155639        |\n",
      "|-------------------------|-------------------------|-------------------------|-------------------------|-------------------------|-------------------------|\n"
     ]
    },
    {
     "name": "stderr",
     "output_type": "stream",
     "text": []
    },
    {
     "name": "stderr",
     "output_type": "stream",
     "text": [
      "                                                                                                                                                                                                                                                                      "
     ]
    },
    {
     "name": "stdout",
     "output_type": "stream",
     "text": [
      "|           12.0          |         0.398111        |         0.931733        |         0.762614        |         0.911342        |        18.632263        |\n",
      "|-------------------------|-------------------------|-------------------------|-------------------------|-------------------------|-------------------------|\n"
     ]
    },
    {
     "name": "stderr",
     "output_type": "stream",
     "text": []
    },
    {
     "name": "stderr",
     "output_type": "stream",
     "text": [
      "                                                                                                                                                                                                                                                                      "
     ]
    },
    {
     "name": "stdout",
     "output_type": "stream",
     "text": [
      "|         13-best         |         0.344396        |         0.938850        |         0.715356        |         0.921925        |        19.106548        |\n",
      "|-------------------------|-------------------------|-------------------------|-------------------------|-------------------------|-------------------------|\n"
     ]
    },
    {
     "name": "stderr",
     "output_type": "stream",
     "text": []
    },
    {
     "name": "stderr",
     "output_type": "stream",
     "text": [
      "                                                                                                                                                                                                                                                                      "
     ]
    },
    {
     "name": "stdout",
     "output_type": "stream",
     "text": [
      "|           14.0          |         0.311742        |         0.945950        |         0.729793        |         0.918730        |        18.909666        |\n",
      "|-------------------------|-------------------------|-------------------------|-------------------------|-------------------------|-------------------------|\n"
     ]
    },
    {
     "name": "stderr",
     "output_type": "stream",
     "text": []
    },
    {
     "name": "stderr",
     "output_type": "stream",
     "text": [
      "                                                                                                                                                                                                                                                                      "
     ]
    },
    {
     "name": "stdout",
     "output_type": "stream",
     "text": [
      "|           15.0          |         0.282111        |         0.950000        |         0.789197        |         0.907348        |        19.237366        |\n",
      "|-------------------------|-------------------------|-------------------------|-------------------------|-------------------------|-------------------------|\n"
     ]
    },
    {
     "name": "stderr",
     "output_type": "stream",
     "text": []
    },
    {
     "name": "stderr",
     "output_type": "stream",
     "text": [
      "                                                                                                                                                                                                                                                                      "
     ]
    },
    {
     "name": "stdout",
     "output_type": "stream",
     "text": [
      "|         16-best         |         0.264734        |         0.951633        |         0.647020        |         0.926917        |        16.865189        |\n",
      "|-------------------------|-------------------------|-------------------------|-------------------------|-------------------------|-------------------------|\n"
     ]
    },
    {
     "name": "stderr",
     "output_type": "stream",
     "text": []
    },
    {
     "name": "stderr",
     "output_type": "stream",
     "text": [
      "                                                                                                                                                                                                                                                                      "
     ]
    },
    {
     "name": "stdout",
     "output_type": "stream",
     "text": [
      "|           17.0          |         0.285897        |         0.950717        |         0.865477        |         0.887780        |        17.957358        |\n",
      "|-------------------------|-------------------------|-------------------------|-------------------------|-------------------------|-------------------------|\n"
     ]
    },
    {
     "name": "stderr",
     "output_type": "stream",
     "text": []
    },
    {
     "name": "stderr",
     "output_type": "stream",
     "text": [
      "                                                                                                                                                                                                                                                                      "
     ]
    },
    {
     "name": "stdout",
     "output_type": "stream",
     "text": [
      "|           18.0          |         0.278818        |         0.949917        |         0.718094        |         0.915835        |        18.338830        |\n",
      "|-------------------------|-------------------------|-------------------------|-------------------------|-------------------------|-------------------------|\n"
     ]
    },
    {
     "name": "stderr",
     "output_type": "stream",
     "text": []
    },
    {
     "name": "stderr",
     "output_type": "stream",
     "text": [
      "                                                                                                                                                                                                                                                                      "
     ]
    },
    {
     "name": "stdout",
     "output_type": "stream",
     "text": [
      "|         19-best         |         0.180206        |         0.968733        |         0.647824        |         0.933506        |        19.082032        |\n",
      "|-------------------------|-------------------------|-------------------------|-------------------------|-------------------------|-------------------------|\n"
     ]
    },
    {
     "name": "stderr",
     "output_type": "stream",
     "text": []
    },
    {
     "name": "stderr",
     "output_type": "stream",
     "text": [
      "                                                                                                                                                                                                                                                                      "
     ]
    },
    {
     "name": "stdout",
     "output_type": "stream",
     "text": [
      "|           20.0          |         0.190832        |         0.965817        |         0.637275        |         0.928914        |        19.419243        |\n",
      "|-------------------------|-------------------------|-------------------------|-------------------------|-------------------------|-------------------------|\n"
     ]
    },
    {
     "name": "stderr",
     "output_type": "stream",
     "text": []
    }
   ],
   "source": [
    "# arc_trainer.load(\"ckpt/arcloss.pth\")\n",
    "arc_trainer.train(epoch=20)"
   ]
  },
  {
   "cell_type": "code",
   "execution_count": 10,
   "metadata": {},
   "outputs": [],
   "source": [
    "# arc_trainer.save(\"ckpt/arcloss.pth\")"
   ]
  },
  {
   "cell_type": "code",
   "execution_count": 11,
   "metadata": {},
   "outputs": [
    {
     "name": "stdout",
     "output_type": "stream",
     "text": [
      "|-------------------------|-------------------------|-------------------------|-------------------------|-------------------------|-------------------------|\n",
      "|          epoch          |        train_loss       |       train_metric      |         val loss        |        val metric       |           time          |\n",
      "|-------------------------|-------------------------|-------------------------|-------------------------|-------------------------|-------------------------|\n"
     ]
    },
    {
     "name": "stderr",
     "output_type": "stream",
     "text": []
    },
    {
     "name": "stdout",
     "output_type": "stream",
     "text": [
      "|          1-best         |         0.625247        |         0.792267        |         0.345886        |         0.908546        |        12.488064        |\n",
      "|-------------------------|-------------------------|-------------------------|-------------------------|-------------------------|-------------------------|\n"
     ]
    },
    {
     "name": "stderr",
     "output_type": "stream",
     "text": [
      "                                                                                                                                                                                                                                                                      "
     ]
    },
    {
     "name": "stdout",
     "output_type": "stream",
     "text": [
      "|          2-best         |         0.290488        |         0.922400        |         0.282864        |         0.923323        |        13.046595        |\n",
      "|-------------------------|-------------------------|-------------------------|-------------------------|-------------------------|-------------------------|\n"
     ]
    },
    {
     "name": "stderr",
     "output_type": "stream",
     "text": []
    },
    {
     "name": "stderr",
     "output_type": "stream",
     "text": [
      "                                                                                                                                                                                                                                                                      "
     ]
    },
    {
     "name": "stdout",
     "output_type": "stream",
     "text": [
      "|          3-best         |         0.222686        |         0.939567        |         0.229598        |         0.940895        |        14.351579        |\n",
      "|-------------------------|-------------------------|-------------------------|-------------------------|-------------------------|-------------------------|\n"
     ]
    },
    {
     "name": "stderr",
     "output_type": "stream",
     "text": []
    },
    {
     "name": "stderr",
     "output_type": "stream",
     "text": [
      "                                                                                                                                                                                                                                                                      "
     ]
    },
    {
     "name": "stdout",
     "output_type": "stream",
     "text": [
      "|          4-best         |         0.180470        |         0.950000        |         0.212606        |         0.943590        |        13.556874        |\n",
      "|-------------------------|-------------------------|-------------------------|-------------------------|-------------------------|-------------------------|\n"
     ]
    },
    {
     "name": "stderr",
     "output_type": "stream",
     "text": []
    },
    {
     "name": "stderr",
     "output_type": "stream",
     "text": [
      "                                                                                                                                                                                                                                                                      "
     ]
    },
    {
     "name": "stdout",
     "output_type": "stream",
     "text": [
      "|          5-best         |         0.150415        |         0.956650        |         0.208335        |         0.950280        |        13.298117        |\n",
      "|-------------------------|-------------------------|-------------------------|-------------------------|-------------------------|-------------------------|\n"
     ]
    },
    {
     "name": "stderr",
     "output_type": "stream",
     "text": []
    },
    {
     "name": "stderr",
     "output_type": "stream",
     "text": [
      "                                                                                                                                                                                                                                                                      "
     ]
    },
    {
     "name": "stdout",
     "output_type": "stream",
     "text": [
      "|           6.0           |         0.125050        |         0.963983        |         0.218267        |         0.946386        |        14.117014        |\n",
      "|-------------------------|-------------------------|-------------------------|-------------------------|-------------------------|-------------------------|\n"
     ]
    },
    {
     "name": "stderr",
     "output_type": "stream",
     "text": []
    },
    {
     "name": "stderr",
     "output_type": "stream",
     "text": [
      "                                                                                                                                                                                                                                                                      "
     ]
    },
    {
     "name": "stdout",
     "output_type": "stream",
     "text": [
      "|           7.0           |         0.106166        |         0.967667        |         0.236320        |         0.946985        |        12.849298        |\n",
      "|-------------------------|-------------------------|-------------------------|-------------------------|-------------------------|-------------------------|\n"
     ]
    },
    {
     "name": "stderr",
     "output_type": "stream",
     "text": []
    },
    {
     "name": "stderr",
     "output_type": "stream",
     "text": [
      "                                                                                                                                                                                                                                                                      "
     ]
    },
    {
     "name": "stdout",
     "output_type": "stream",
     "text": [
      "|          8-best         |         0.090421        |         0.972733        |         0.214442        |         0.952975        |        11.387955        |\n",
      "|-------------------------|-------------------------|-------------------------|-------------------------|-------------------------|-------------------------|\n"
     ]
    },
    {
     "name": "stderr",
     "output_type": "stream",
     "text": []
    },
    {
     "name": "stderr",
     "output_type": "stream",
     "text": [
      "                                                                                                                                                                                                                                                                      "
     ]
    },
    {
     "name": "stdout",
     "output_type": "stream",
     "text": [
      "|          9-best         |         0.078190        |         0.975000        |         0.215428        |         0.954673        |        13.305375        |\n",
      "|-------------------------|-------------------------|-------------------------|-------------------------|-------------------------|-------------------------|\n"
     ]
    },
    {
     "name": "stderr",
     "output_type": "stream",
     "text": []
    },
    {
     "name": "stderr",
     "output_type": "stream",
     "text": [
      "                                                                                                                                                                                                                                                                      "
     ]
    },
    {
     "name": "stdout",
     "output_type": "stream",
     "text": [
      "|           10.0          |         0.066561        |         0.978883        |         0.244795        |         0.950280        |        12.418940        |\n",
      "|-------------------------|-------------------------|-------------------------|-------------------------|-------------------------|-------------------------|\n"
     ]
    },
    {
     "name": "stderr",
     "output_type": "stream",
     "text": []
    },
    {
     "name": "stderr",
     "output_type": "stream",
     "text": [
      "                                                                                                                                                                                                                                                                      "
     ]
    },
    {
     "name": "stdout",
     "output_type": "stream",
     "text": [
      "|         11-best         |         0.059153        |         0.981317        |         0.251151        |         0.954772        |        12.176062        |\n",
      "|-------------------------|-------------------------|-------------------------|-------------------------|-------------------------|-------------------------|\n"
     ]
    },
    {
     "name": "stderr",
     "output_type": "stream",
     "text": []
    },
    {
     "name": "stderr",
     "output_type": "stream",
     "text": [
      "                                                                                                                                                                                                                                                                      "
     ]
    },
    {
     "name": "stdout",
     "output_type": "stream",
     "text": [
      "|           12.0          |         0.050607        |         0.983817        |         0.274756        |         0.952177        |        13.224272        |\n",
      "|-------------------------|-------------------------|-------------------------|-------------------------|-------------------------|-------------------------|\n"
     ]
    },
    {
     "name": "stderr",
     "output_type": "stream",
     "text": []
    },
    {
     "name": "stderr",
     "output_type": "stream",
     "text": [
      "                                                                                                                                                                                                                                                                      "
     ]
    },
    {
     "name": "stdout",
     "output_type": "stream",
     "text": [
      "|         13-best         |         0.049663        |         0.984333        |         0.257354        |         0.957668        |        11.534215        |\n",
      "|-------------------------|-------------------------|-------------------------|-------------------------|-------------------------|-------------------------|\n"
     ]
    },
    {
     "name": "stderr",
     "output_type": "stream",
     "text": []
    },
    {
     "name": "stderr",
     "output_type": "stream",
     "text": [
      "                                                                                                                                                                                                                                                                      "
     ]
    },
    {
     "name": "stdout",
     "output_type": "stream",
     "text": [
      "|           14.0          |         0.039596        |         0.987100        |         0.260633        |         0.956769        |        10.971048        |\n",
      "|-------------------------|-------------------------|-------------------------|-------------------------|-------------------------|-------------------------|\n"
     ]
    },
    {
     "name": "stderr",
     "output_type": "stream",
     "text": []
    },
    {
     "name": "stderr",
     "output_type": "stream",
     "text": [
      "                                                                                                                                                                                                                                                                      "
     ]
    },
    {
     "name": "stdout",
     "output_type": "stream",
     "text": [
      "|           15.0          |         0.038473        |         0.987400        |         0.262455        |         0.957169        |        12.748350        |\n",
      "|-------------------------|-------------------------|-------------------------|-------------------------|-------------------------|-------------------------|\n"
     ]
    },
    {
     "name": "stderr",
     "output_type": "stream",
     "text": []
    },
    {
     "name": "stderr",
     "output_type": "stream",
     "text": [
      "                                                                                                                                                                                                                                                                      "
     ]
    },
    {
     "name": "stdout",
     "output_type": "stream",
     "text": [
      "|           16.0          |         0.036239        |         0.988000        |         0.302556        |         0.957468        |        11.750408        |\n",
      "|-------------------------|-------------------------|-------------------------|-------------------------|-------------------------|-------------------------|\n"
     ]
    },
    {
     "name": "stderr",
     "output_type": "stream",
     "text": []
    },
    {
     "name": "stderr",
     "output_type": "stream",
     "text": [
      "                                                                                                                                                                                                                                                                      "
     ]
    },
    {
     "name": "stdout",
     "output_type": "stream",
     "text": [
      "|         17-best         |         0.032958        |         0.989450        |         0.330297        |         0.957867        |        11.889903        |\n",
      "|-------------------------|-------------------------|-------------------------|-------------------------|-------------------------|-------------------------|\n"
     ]
    },
    {
     "name": "stderr",
     "output_type": "stream",
     "text": []
    },
    {
     "name": "stderr",
     "output_type": "stream",
     "text": [
      "                                                                                                                                                                                                                                                                      "
     ]
    },
    {
     "name": "stdout",
     "output_type": "stream",
     "text": [
      "|           18.0          |         0.029468        |         0.990333        |         0.300819        |         0.955471        |        11.599988        |\n",
      "|-------------------------|-------------------------|-------------------------|-------------------------|-------------------------|-------------------------|\n"
     ]
    },
    {
     "name": "stderr",
     "output_type": "stream",
     "text": []
    },
    {
     "name": "stderr",
     "output_type": "stream",
     "text": [
      "                                                                                                                                                                                                                                                                      "
     ]
    },
    {
     "name": "stdout",
     "output_type": "stream",
     "text": [
      "|         19-best         |         0.028542        |         0.990250        |         0.305977        |         0.959065        |        12.853894        |\n",
      "|-------------------------|-------------------------|-------------------------|-------------------------|-------------------------|-------------------------|\n"
     ]
    },
    {
     "name": "stderr",
     "output_type": "stream",
     "text": []
    },
    {
     "name": "stderr",
     "output_type": "stream",
     "text": [
      "                                                                                                                                                                                                                                                                      "
     ]
    },
    {
     "name": "stdout",
     "output_type": "stream",
     "text": [
      "|         20-best         |         0.028799        |         0.990350        |         0.334912        |         0.961462        |        11.525178        |\n",
      "|-------------------------|-------------------------|-------------------------|-------------------------|-------------------------|-------------------------|\n"
     ]
    },
    {
     "name": "stderr",
     "output_type": "stream",
     "text": []
    }
   ],
   "source": [
    "softmax_net = SoftMaxNet().cuda()\n",
    "trainer = PinkBlack.trainer.Trainer(net=softmax_net, train_dataloader=train_dataloader, val_dataloader=test_dataloader)\n",
    "trainer.train(epoch=20)\n",
    "# trainer.load(\"ckpt/softmax.pth\")"
   ]
  },
  {
   "cell_type": "code",
   "execution_count": 12,
   "metadata": {},
   "outputs": [],
   "source": [
    "# trainer.save(\"ckpt/softmax.pth\")"
   ]
  },
  {
   "cell_type": "code",
   "execution_count": 13,
   "metadata": {},
   "outputs": [],
   "source": [
    "colors = ['C0', 'C1', 'C2', 'C3', 'C4', 'C5', 'C6', 'C7', 'C8', 'C9']"
   ]
  },
  {
   "cell_type": "markdown",
   "metadata": {},
   "source": [
    "# Softmax Visualize"
   ]
  },
  {
   "cell_type": "code",
   "execution_count": 14,
   "metadata": {},
   "outputs": [],
   "source": [
    "def get_samples_vector(net, dataloader, num_samples=1000):\n",
    "    samples = []\n",
    "    labels = []\n",
    "    for x, y in dataloader:\n",
    "        sample = net.get_feature(x.cuda()) # normalized vector\n",
    "        samples.extend(sample.tolist())\n",
    "        labels.extend(y.tolist())\n",
    "        if len(samples) > num_samples:\n",
    "            break\n",
    "    samples = list(zip(samples, labels))\n",
    "    return samples, labels"
   ]
  },
  {
   "cell_type": "code",
   "execution_count": 15,
   "metadata": {},
   "outputs": [],
   "source": [
    "def show_2d_space(samples, labels, w):\n",
    "    plt.figure(figsize=(10,10))\n",
    "    for i in range(10):\n",
    "        samples_i = list(filter(lambda x : x[1] == i, samples))\n",
    "        samples_feat = np.ndarray.flatten(np.array([s[0] for s in samples_i]))\n",
    "        plt.plot(*samples_feat, marker=\"o\", color=colors[i], markersize=1)\n",
    "        plt.plot([w[i][0], 0], [w[i][1], 0], color=colors[i])\n",
    "    # plt.plot(*zip(w, [[0,0] for i in range(10)]))\n",
    "    plt.show()    "
   ]
  },
  {
   "cell_type": "markdown",
   "metadata": {},
   "source": [
    "# Softmax Example"
   ]
  },
  {
   "cell_type": "code",
   "execution_count": 16,
   "metadata": {},
   "outputs": [
    {
     "data": {
      "image/png": "[encoded data removed]",
      "text/plain": [
       "<Figure size 720x720 with 1 Axes>"
      ]
     },
     "metadata": {
      "needs_background": "light"
     },
     "output_type": "display_data"
    }
   ],
   "source": [
    "softmax_samples, softmax_labels = get_samples_vector(softmax_net, dataloader=train_dataloader, num_samples=1000)\n",
    "softmax_w = F.normalize(softmax_net.classifier.weight).tolist()\n",
    "show_2d_space(softmax_samples, softmax_labels, softmax_w)"
   ]
  },
  {
   "cell_type": "markdown",
   "metadata": {},
   "source": [
    "# ArcLoss Example"
   ]
  },
  {
   "cell_type": "code",
   "execution_count": 17,
   "metadata": {},
   "outputs": [
    {
     "data": {
      "image/png": "[encoded data removed]",
      "text/plain": [
       "<Figure size 720x720 with 1 Axes>"
      ]
     },
     "metadata": {
      "needs_background": "light"
     },
     "output_type": "display_data"
    }
   ],
   "source": [
    "arcloss_samples, arcloss_labels = get_samples_vector(arcfeat, dataloader=train_dataloader, num_samples=1000)\n",
    "arcloss_w = F.normalize(arcfeat.classifier).tolist()\n",
    "show_2d_space(arcloss_samples, arcloss_labels, arcloss_w)"
   ]
  },
  {
   "cell_type": "code",
   "execution_count": null,
   "metadata": {},
   "outputs": [],
   "source": []
  }
 ],
 "metadata": {
  "kernelspec": {
   "display_name": "Python 3",
   "language": "python",
   "name": "python3"
  },
  "language_info": {
   "codemirror_mode": {
    "name": "ipython",
    "version": 3
   },
   "file_extension": ".py",
   "mimetype": "text/x-python",
   "name": "python",
   "nbconvert_exporter": "python",
   "pygments_lexer": "ipython3",
   "version": "3.6.8"
  }
 },
 "nbformat": 4,
 "nbformat_minor": 2
}
